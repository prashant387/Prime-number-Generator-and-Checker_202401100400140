{
  "nbformat": 4,
  "nbformat_minor": 0,
  "metadata": {
    "colab": {
      "provenance": []
    },
    "kernelspec": {
      "name": "python3",
      "display_name": "Python 3"
    },
    "language_info": {
      "name": "python"
    }
  },
  "cells": [
    {
      "cell_type": "code",
      "execution_count": 2,
      "metadata": {
        "colab": {
          "base_uri": "https://localhost:8080/"
        },
        "id": "bngKUEFJOtM3",
        "outputId": "44698bc0-3123-4fbe-df38-3454420a9e63"
      },
      "outputs": [
        {
          "output_type": "stream",
          "name": "stdout",
          "text": [
            "Generated prime numbers up to 100: [ 2  3  5  7 11 13 17 19 23 29 31 37 41 43 47 53 59 61 67 71 73 79 83 89\n",
            " 97]\n",
            "AI-based Prime Check for 29: False\n"
          ]
        }
      ],
      "source": [
        "import numpy as np\n",
        "from sklearn.linear_model import LogisticRegression\n",
        "\n",
        "def sieve_of_eratosthenes(limit):\n",
        "    primes = np.ones(limit + 1, dtype=bool)\n",
        "    primes[0:2] = False\n",
        "\n",
        "    for num in range(2, int(limit**0.5) + 1):\n",
        "        if primes[num]:\n",
        "            primes[num*num : limit+1 : num] = False\n",
        "\n",
        "    return np.where(primes)[0]\n",
        "\n",
        "def generate_training_data(limit):\n",
        "    primes = sieve_of_eratosthenes(limit)\n",
        "    X = np.arange(limit).reshape(-1, 1)\n",
        "    y = np.isin(X.flatten(), primes).astype(int)\n",
        "    return X, y\n",
        "\n",
        "def train_prime_checker(limit=1000):\n",
        "    X, y = generate_training_data(limit)\n",
        "    model = LogisticRegression()\n",
        "    model.fit(X, y)\n",
        "    return model\n",
        "\n",
        "def ai_prime_check(model, number):\n",
        "    return model.predict(np.array([[number]]))[0] == 1\n",
        "\n",
        "if __name__ == \"__main__\":\n",
        "    limit = 1000\n",
        "    model = train_prime_checker(limit)\n",
        "\n",
        "    print(\"Generated prime numbers up to 100:\", sieve_of_eratosthenes(100))\n",
        "\n",
        "    test_num = 29\n",
        "    print(f\"AI-based Prime Check for {test_num}: {ai_prime_check(model, test_num)}\")"
      ]
    }
  ]
}